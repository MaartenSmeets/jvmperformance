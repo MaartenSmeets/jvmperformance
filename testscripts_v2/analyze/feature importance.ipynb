{
 "cells": [
  {
   "cell_type": "code",
   "execution_count": 1,
   "metadata": {},
   "outputs": [],
   "source": [
    "from matplotlib import pyplot as plt\n",
    "from matplotlib.pyplot import figure\n",
    "import pandas as pd\n",
    "import numpy as np\n",
    "import os\n",
    "import sys"
   ]
  },
  {
   "cell_type": "code",
   "execution_count": 2,
   "metadata": {},
   "outputs": [],
   "source": [
    "df1 = pd.read_csv('results_20190920_083532.log', sep=',')"
   ]
  },
  {
   "cell_type": "code",
   "execution_count": 3,
   "metadata": {},
   "outputs": [],
   "source": [
    "df1 = df1.drop(columns=['jvm_short','duration'])"
   ]
  },
  {
   "cell_type": "code",
   "execution_count": 4,
   "metadata": {
    "scrolled": false
   },
   "outputs": [
    {
     "data": {
      "text/html": [
       "<div>\n",
       "<style scoped>\n",
       "    .dataframe tbody tr th:only-of-type {\n",
       "        vertical-align: middle;\n",
       "    }\n",
       "\n",
       "    .dataframe tbody tr th {\n",
       "        vertical-align: top;\n",
       "    }\n",
       "\n",
       "    .dataframe thead th {\n",
       "        text-align: right;\n",
       "    }\n",
       "</style>\n",
       "<table border=\"1\" class=\"dataframe\">\n",
       "  <thead>\n",
       "    <tr style=\"text-align: right;\">\n",
       "      <th></th>\n",
       "      <th>jvm_descr</th>\n",
       "      <th>jvm_vendor</th>\n",
       "      <th>jvm_major_version</th>\n",
       "      <th>gc_descr</th>\n",
       "      <th>gc_short</th>\n",
       "      <th>framework</th>\n",
       "      <th>memflag</th>\n",
       "      <th>compl_req</th>\n",
       "      <th>failed_req</th>\n",
       "      <th>req_per_sec</th>\n",
       "      <th>time_per_req_avg</th>\n",
       "      <th>cpus</th>\n",
       "      <th>concurrency</th>\n",
       "    </tr>\n",
       "  </thead>\n",
       "  <tbody>\n",
       "    <tr>\n",
       "      <th>0</th>\n",
       "      <td>OpenJ9 8</td>\n",
       "      <td>OpenJ9</td>\n",
       "      <td>8</td>\n",
       "      <td>Generational Concurrent policy</td>\n",
       "      <td>GenCon</td>\n",
       "      <td>Akka</td>\n",
       "      <td>-Xmx512m -Xms512m</td>\n",
       "      <td>10506</td>\n",
       "      <td>0</td>\n",
       "      <td>525.29</td>\n",
       "      <td>1.904</td>\n",
       "      <td>1</td>\n",
       "      <td>1</td>\n",
       "    </tr>\n",
       "    <tr>\n",
       "      <th>1</th>\n",
       "      <td>OpenJ9 8</td>\n",
       "      <td>OpenJ9</td>\n",
       "      <td>8</td>\n",
       "      <td>Generational Concurrent policy</td>\n",
       "      <td>GenCon</td>\n",
       "      <td>Akka</td>\n",
       "      <td>-Xmx512m -Xms512m</td>\n",
       "      <td>8659</td>\n",
       "      <td>0</td>\n",
       "      <td>432.93</td>\n",
       "      <td>2.310</td>\n",
       "      <td>1</td>\n",
       "      <td>4</td>\n",
       "    </tr>\n",
       "    <tr>\n",
       "      <th>2</th>\n",
       "      <td>OpenJ9 8</td>\n",
       "      <td>OpenJ9</td>\n",
       "      <td>8</td>\n",
       "      <td>Generational Concurrent policy</td>\n",
       "      <td>GenCon</td>\n",
       "      <td>Akka</td>\n",
       "      <td>-Xmx512m -Xms512m</td>\n",
       "      <td>8976</td>\n",
       "      <td>0</td>\n",
       "      <td>448.79</td>\n",
       "      <td>2.228</td>\n",
       "      <td>1</td>\n",
       "      <td>8</td>\n",
       "    </tr>\n",
       "    <tr>\n",
       "      <th>3</th>\n",
       "      <td>OpenJ9 8</td>\n",
       "      <td>OpenJ9</td>\n",
       "      <td>8</td>\n",
       "      <td>Generational Concurrent policy</td>\n",
       "      <td>GenCon</td>\n",
       "      <td>Akka</td>\n",
       "      <td>-Xmx512m -Xms512m</td>\n",
       "      <td>9693</td>\n",
       "      <td>0</td>\n",
       "      <td>484.64</td>\n",
       "      <td>2.063</td>\n",
       "      <td>4</td>\n",
       "      <td>1</td>\n",
       "    </tr>\n",
       "    <tr>\n",
       "      <th>4</th>\n",
       "      <td>OpenJ9 8</td>\n",
       "      <td>OpenJ9</td>\n",
       "      <td>8</td>\n",
       "      <td>Generational Concurrent policy</td>\n",
       "      <td>GenCon</td>\n",
       "      <td>Akka</td>\n",
       "      <td>-Xmx512m -Xms512m</td>\n",
       "      <td>8855</td>\n",
       "      <td>0</td>\n",
       "      <td>442.56</td>\n",
       "      <td>2.260</td>\n",
       "      <td>4</td>\n",
       "      <td>4</td>\n",
       "    </tr>\n",
       "  </tbody>\n",
       "</table>\n",
       "</div>"
      ],
      "text/plain": [
       "  jvm_descr jvm_vendor  jvm_major_version                        gc_descr  \\\n",
       "0  OpenJ9 8     OpenJ9                  8  Generational Concurrent policy   \n",
       "1  OpenJ9 8     OpenJ9                  8  Generational Concurrent policy   \n",
       "2  OpenJ9 8     OpenJ9                  8  Generational Concurrent policy   \n",
       "3  OpenJ9 8     OpenJ9                  8  Generational Concurrent policy   \n",
       "4  OpenJ9 8     OpenJ9                  8  Generational Concurrent policy   \n",
       "\n",
       "  gc_short framework            memflag  compl_req  failed_req  req_per_sec  \\\n",
       "0   GenCon      Akka  -Xmx512m -Xms512m      10506           0       525.29   \n",
       "1   GenCon      Akka  -Xmx512m -Xms512m       8659           0       432.93   \n",
       "2   GenCon      Akka  -Xmx512m -Xms512m       8976           0       448.79   \n",
       "3   GenCon      Akka  -Xmx512m -Xms512m       9693           0       484.64   \n",
       "4   GenCon      Akka  -Xmx512m -Xms512m       8855           0       442.56   \n",
       "\n",
       "   time_per_req_avg  cpus  concurrency  \n",
       "0             1.904     1            1  \n",
       "1             2.310     1            4  \n",
       "2             2.228     1            8  \n",
       "3             2.063     4            1  \n",
       "4             2.260     4            4  "
      ]
     },
     "execution_count": 4,
     "metadata": {},
     "output_type": "execute_result"
    }
   ],
   "source": [
    "#Cleaning data and setting the correct datatypes\n",
    "df1=df1.loc[df1['failed_req']!='FAILED']\n",
    "df1['failed_req']=pd.to_numeric(df1['failed_req'])\n",
    "df1['compl_req']=pd.to_numeric(df1['compl_req'])\n",
    "df1['req_per_sec']=pd.to_numeric(df1['req_per_sec'])\n",
    "df1['time_per_req_avg']=pd.to_numeric(df1['time_per_req_avg'])\n",
    "df1['cpus']=pd.to_numeric(df1['cpus'])\n",
    "df1['concurrency']=pd.to_numeric(df1['concurrency'])"
   ]
  },
  {
   "cell_type": "code",
   "execution_count": 25,
   "metadata": {},
   "outputs": [
    {
     "name": "stdout",
     "output_type": "stream",
     "text": [
      "Train Accuracy ::  0.9989440896842571\n",
      "Test Accuracy  ::  0.9931063688340301\n"
     ]
    },
    {
     "data": {
      "image/png": "[encoded data removed]",
      "text/plain": [
       "<Figure size 864x432 with 1 Axes>"
      ]
     },
     "metadata": {
      "needs_background": "light"
     },
     "output_type": "display_data"
    }
   ],
   "source": [
    "from sklearn import preprocessing\n",
    "le = preprocessing.LabelEncoder()\n",
    "for column_name in df1.columns:\n",
    "    if df1[column_name].dtype == object:\n",
    "        df1[column_name] = le.fit_transform(df1[column_name])\n",
    "    else:\n",
    "        pass\n",
    "        \n",
    "from sklearn.model_selection import train_test_split\n",
    "train, test = train_test_split(df1, test_size=0.2)\n",
    "Xtest = test[['cpus','concurrency','jvm_vendor','jvm_major_version','gc_short','framework','memflag']]  #independent columns\n",
    "ytest = test['compl_req']    #target column i.e price range\n",
    "\n",
    "Xtrain = train[['cpus','concurrency','jvm_vendor','jvm_major_version','gc_short','framework','memflag']]  #independent columns\n",
    "ytrain = train['compl_req']    #target column i.e price range\n",
    "\n",
    "from sklearn.ensemble import RandomForestRegressor\n",
    "\n",
    "forest = RandomForestRegressor(200)\n",
    "forest.fit(Xtrain, ytrain)\n",
    "\n",
    "predictions = forest.predict(Xtest)\n",
    "print (\"Train Accuracy :: \", forest.score(Xtrain, ytrain))\n",
    "print (\"Test Accuracy  :: \", forest.score(Xtest, ytest))\n",
    "figure(num=None, figsize=(12, 6))\n",
    "#print(forest.feature_importances_) #use inbuilt class feature_importances of tree based classifiers\n",
    "#plot graph of feature importances for better visualization\n",
    "columnLookup={'cpus':'CPUs','jvm_major_version':'Java version','memflag':'Assigned memory','gc_short':'GC algorithm','concurrency':'Concurrency','framework':'Framework','jvm_vendor':'JVM supplier'}\n",
    "X.columns= [ columnLookup.get(item,item) for item in X.columns ]\n",
    "feat_importances = pd.Series(forest.feature_importances_, index=X.columns)\n",
    "feat_importances.nlargest(10).plot(kind='barh')\n",
    "plt.title('Feature importances')\n",
    "#plt.ylabel('Feature')\n",
    "plt.xlabel('Relative importance')\n",
    "plt.show()"
   ]
  }
 ],
 "metadata": {
  "kernelspec": {
   "display_name": "Python 3",
   "language": "python",
   "name": "python3"
  },
  "language_info": {
   "codemirror_mode": {
    "name": "ipython",
    "version": 3
   },
   "file_extension": ".py",
   "mimetype": "text/x-python",
   "name": "python",
   "nbconvert_exporter": "python",
   "pygments_lexer": "ipython3",
   "version": "3.6.8"
  }
 },
 "nbformat": 4,
 "nbformat_minor": 2
}
