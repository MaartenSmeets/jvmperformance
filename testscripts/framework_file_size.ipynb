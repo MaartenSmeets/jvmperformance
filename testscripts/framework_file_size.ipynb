{
 "cells": [
  {
   "cell_type": "code",
   "execution_count": 1,
   "metadata": {},
   "outputs": [],
   "source": [
    "from matplotlib import pyplot as plt\n",
    "from matplotlib.pyplot import figure\n",
    "import pandas as pd\n",
    "import numpy as np\n",
    "import os\n",
    "import sys"
   ]
  },
  {
   "cell_type": "code",
   "execution_count": 2,
   "metadata": {},
   "outputs": [
    {
     "data": {
      "text/html": [
       "<div>\n",
       "<style scoped>\n",
       "    .dataframe tbody tr th:only-of-type {\n",
       "        vertical-align: middle;\n",
       "    }\n",
       "\n",
       "    .dataframe tbody tr th {\n",
       "        vertical-align: top;\n",
       "    }\n",
       "\n",
       "    .dataframe thead th {\n",
       "        text-align: right;\n",
       "    }\n",
       "</style>\n",
       "<table border=\"1\" class=\"dataframe\">\n",
       "  <thead>\n",
       "    <tr style=\"text-align: right;\">\n",
       "      <th></th>\n",
       "      <th>Framework</th>\n",
       "      <th>Filesize</th>\n",
       "    </tr>\n",
       "  </thead>\n",
       "  <tbody>\n",
       "    <tr>\n",
       "      <td>0</td>\n",
       "      <td>Helidon SE</td>\n",
       "      <td>5.510226</td>\n",
       "    </tr>\n",
       "    <tr>\n",
       "      <td>1</td>\n",
       "      <td>Vert.x</td>\n",
       "      <td>7.034034</td>\n",
       "    </tr>\n",
       "    <tr>\n",
       "      <td>2</td>\n",
       "      <td>Quarkus</td>\n",
       "      <td>8.123619</td>\n",
       "    </tr>\n",
       "    <tr>\n",
       "      <td>3</td>\n",
       "      <td>Micronaut</td>\n",
       "      <td>11.752895</td>\n",
       "    </tr>\n",
       "    <tr>\n",
       "      <td>4</td>\n",
       "      <td>Spring Boot</td>\n",
       "      <td>17.488622</td>\n",
       "    </tr>\n",
       "    <tr>\n",
       "      <td>5</td>\n",
       "      <td>Spring Boot WebFLux</td>\n",
       "      <td>18.915492</td>\n",
       "    </tr>\n",
       "    <tr>\n",
       "      <td>6</td>\n",
       "      <td>Spring Fu</td>\n",
       "      <td>19.600731</td>\n",
       "    </tr>\n",
       "    <tr>\n",
       "      <td>7</td>\n",
       "      <td>Akka</td>\n",
       "      <td>22.558644</td>\n",
       "    </tr>\n",
       "  </tbody>\n",
       "</table>\n",
       "</div>"
      ],
      "text/plain": [
       "             Framework   Filesize\n",
       "0           Helidon SE   5.510226\n",
       "1               Vert.x   7.034034\n",
       "2              Quarkus   8.123619\n",
       "3            Micronaut  11.752895\n",
       "4          Spring Boot  17.488622\n",
       "5  Spring Boot WebFLux  18.915492\n",
       "6            Spring Fu  19.600731\n",
       "7                 Akka  22.558644"
      ]
     },
     "execution_count": 2,
     "metadata": {},
     "output_type": "execute_result"
    }
   ],
   "source": [
    "data = {'Framework': [\"Helidon SE\", \"Vert.x\", \"Quarkus\",\"Micronaut\", \"Spring Boot\", \"Spring Boot WebFLux\", \"Spring Fu\", \"Akka\"], \n",
    "        'Filesize': [5777891, 7375719, 8518232, 12323804,18338149, 19834331, 20552856, 23654453]}\n",
    "\n",
    "df1=pd.DataFrame.from_dict(data)\n",
    "df1['Filesize']=df1['Filesize']/1024/1024\n",
    "df1"
   ]
  },
  {
   "cell_type": "code",
   "execution_count": 5,
   "metadata": {},
   "outputs": [
    {
     "data": {
      "image/png": "[encoded data removed]",
      "text/plain": [
       "<Figure size 1152x576 with 1 Axes>"
      ]
     },
     "metadata": {
      "needs_background": "light"
     },
     "output_type": "display_data"
    }
   ],
   "source": [
    "# set width of bar\n",
    "barWidth = 0.5\n",
    "ind = np.arange(len(df1.Framework))\n",
    "plt.xlabel('Framework')\n",
    "plt.ylabel('Filesize [Mb]')\n",
    "plt.xticks(ind, df1['Framework'])\n",
    "plt.title('Fat JAR file size of minimal implementation per framework')\n",
    "plt.tight_layout()\n",
    "plt.bar(ind, df1['Filesize'], barWidth)\n",
    "fig=plt.gcf()\n",
    "fig.set_size_inches(16,8)"
   ]
  },
  {
   "cell_type": "code",
   "execution_count": 6,
   "metadata": {},
   "outputs": [],
   "source": [
    "fig.savefig('filesize.png' ,dpi=100,bbox_inches = 'tight')\n",
    "plt.close('all')"
   ]
  },
  {
   "cell_type": "code",
   "execution_count": null,
   "metadata": {},
   "outputs": [],
   "source": []
  }
 ],
 "metadata": {
  "kernelspec": {
   "display_name": "Python 3",
   "language": "python",
   "name": "python3"
  },
  "language_info": {
   "codemirror_mode": {
    "name": "ipython",
    "version": 3
   },
   "file_extension": ".py",
   "mimetype": "text/x-python",
   "name": "python",
   "nbconvert_exporter": "python",
   "pygments_lexer": "ipython3",
   "version": "3.7.2"
  }
 },
 "nbformat": 4,
 "nbformat_minor": 2
}
