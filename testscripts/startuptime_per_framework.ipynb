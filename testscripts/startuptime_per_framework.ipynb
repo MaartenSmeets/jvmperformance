{
 "cells": [
  {
   "cell_type": "code",
   "execution_count": 1,
   "metadata": {},
   "outputs": [],
   "source": [
    "from matplotlib import pyplot as plt\n",
    "from matplotlib.pyplot import figure\n",
    "import pandas as pd\n",
    "import numpy as np\n",
    "import os\n",
    "import sys\n",
    "df1 = pd.read_csv('starttime_20190819214320.log.txt', sep=',', header=None, \n",
    "                  names=[\"framework\", \"jvmversion\", \"startuptime\"])\n",
    "# set width of bar\n",
    "barWidth = 0.5"
   ]
  },
  {
   "cell_type": "code",
   "execution_count": 2,
   "metadata": {},
   "outputs": [],
   "source": [
    "framework_dict={'hse':'Helidon SE','mn':'Micronaut','none':'No framework','mp':'Microprofile','sb':'Spring Boot','sbreactive':'WebFlux','sbfu':'Spring Fu','vertx':'Vert.x','akka':'Akka','qs':'Quarkus'}\n",
    "df1['framework'] = df1['framework'].map(framework_dict)\n",
    "df1=df1.groupby(['framework']).agg({'startuptime':['mean','std']})\n",
    "df1=df1.startuptime.reset_index()"
   ]
  },
  {
   "cell_type": "code",
   "execution_count": 3,
   "metadata": {},
   "outputs": [],
   "source": [
    "df1=df1.sort_values(['mean'], ascending=[True])"
   ]
  },
  {
   "cell_type": "code",
   "execution_count": 4,
   "metadata": {},
   "outputs": [],
   "source": [
    "ind = np.arange(len(df1.framework.unique()))"
   ]
  },
  {
   "cell_type": "code",
   "execution_count": 5,
   "metadata": {},
   "outputs": [
    {
     "data": {
      "image/png": "[encoded data removed]",
      "text/plain": [
       "<Figure size 1152x576 with 1 Axes>"
      ]
     },
     "metadata": {
      "needs_background": "light"
     },
     "output_type": "display_data"
    }
   ],
   "source": [
    "plt.xlabel('Framework')\n",
    "plt.ylabel('Average startup time [ms]\\nn per framework is 2000')\n",
    "plt.xticks(ind, df1['framework'])\n",
    "plt.title('Startup time per framework')\n",
    "plt.tight_layout()\n",
    "plt.ylim(0, 5500)\n",
    "plt.bar(ind, df1['mean'], barWidth, yerr=df1['std'],capsize=5)\n",
    "fig=plt.gcf()\n",
    "fig.set_size_inches(16,8)"
   ]
  },
  {
   "cell_type": "code",
   "execution_count": 6,
   "metadata": {},
   "outputs": [
    {
     "data": {
      "text/html": [
       "<div>\n",
       "<style scoped>\n",
       "    .dataframe tbody tr th:only-of-type {\n",
       "        vertical-align: middle;\n",
       "    }\n",
       "\n",
       "    .dataframe tbody tr th {\n",
       "        vertical-align: top;\n",
       "    }\n",
       "\n",
       "    .dataframe thead th {\n",
       "        text-align: right;\n",
       "    }\n",
       "</style>\n",
       "<table border=\"1\" class=\"dataframe\">\n",
       "  <thead>\n",
       "    <tr style=\"text-align: right;\">\n",
       "      <th></th>\n",
       "      <th>framework</th>\n",
       "      <th>mean</th>\n",
       "      <th>std</th>\n",
       "    </tr>\n",
       "  </thead>\n",
       "  <tbody>\n",
       "    <tr>\n",
       "      <td>1</td>\n",
       "      <td>Helidon SE</td>\n",
       "      <td>281.692667</td>\n",
       "      <td>186.573389</td>\n",
       "    </tr>\n",
       "    <tr>\n",
       "      <td>4</td>\n",
       "      <td>Quarkus</td>\n",
       "      <td>317.222333</td>\n",
       "      <td>181.546967</td>\n",
       "    </tr>\n",
       "    <tr>\n",
       "      <td>7</td>\n",
       "      <td>Vert.x</td>\n",
       "      <td>434.737500</td>\n",
       "      <td>27.429706</td>\n",
       "    </tr>\n",
       "    <tr>\n",
       "      <td>2</td>\n",
       "      <td>Micronaut</td>\n",
       "      <td>590.179667</td>\n",
       "      <td>438.078733</td>\n",
       "    </tr>\n",
       "    <tr>\n",
       "      <td>0</td>\n",
       "      <td>Akka</td>\n",
       "      <td>977.381500</td>\n",
       "      <td>29.424851</td>\n",
       "    </tr>\n",
       "    <tr>\n",
       "      <td>6</td>\n",
       "      <td>Spring Fu</td>\n",
       "      <td>1038.320500</td>\n",
       "      <td>27.223415</td>\n",
       "    </tr>\n",
       "    <tr>\n",
       "      <td>8</td>\n",
       "      <td>WebFlux</td>\n",
       "      <td>1948.930000</td>\n",
       "      <td>51.901898</td>\n",
       "    </tr>\n",
       "    <tr>\n",
       "      <td>5</td>\n",
       "      <td>Spring Boot</td>\n",
       "      <td>2009.211500</td>\n",
       "      <td>60.236243</td>\n",
       "    </tr>\n",
       "    <tr>\n",
       "      <td>3</td>\n",
       "      <td>Microprofile</td>\n",
       "      <td>4777.203500</td>\n",
       "      <td>306.973684</td>\n",
       "    </tr>\n",
       "  </tbody>\n",
       "</table>\n",
       "</div>"
      ],
      "text/plain": [
       "      framework         mean         std\n",
       "1    Helidon SE   281.692667  186.573389\n",
       "4       Quarkus   317.222333  181.546967\n",
       "7        Vert.x   434.737500   27.429706\n",
       "2     Micronaut   590.179667  438.078733\n",
       "0          Akka   977.381500   29.424851\n",
       "6     Spring Fu  1038.320500   27.223415\n",
       "8       WebFlux  1948.930000   51.901898\n",
       "5   Spring Boot  2009.211500   60.236243\n",
       "3  Microprofile  4777.203500  306.973684"
      ]
     },
     "execution_count": 6,
     "metadata": {},
     "output_type": "execute_result"
    }
   ],
   "source": [
    "df1"
   ]
  },
  {
   "cell_type": "code",
   "execution_count": 7,
   "metadata": {},
   "outputs": [],
   "source": [
    "fig.savefig('output.png' ,dpi=100,bbox_inches = 'tight')\n",
    "plt.close('all')"
   ]
  },
  {
   "cell_type": "code",
   "execution_count": null,
   "metadata": {},
   "outputs": [],
   "source": []
  }
 ],
 "metadata": {
  "kernelspec": {
   "display_name": "Python 3",
   "language": "python",
   "name": "python3"
  },
  "language_info": {
   "codemirror_mode": {
    "name": "ipython",
    "version": 3
   },
   "file_extension": ".py",
   "mimetype": "text/x-python",
   "name": "python",
   "nbconvert_exporter": "python",
   "pygments_lexer": "ipython3",
   "version": "3.7.2"
  }
 },
 "nbformat": 4,
 "nbformat_minor": 2
}
